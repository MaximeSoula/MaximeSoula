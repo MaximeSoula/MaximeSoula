{
 "cells": [
  {
   "cell_type": "code",
   "execution_count": 2,
   "id": "ae188da2",
   "metadata": {},
   "outputs": [
    {
     "name": "stdout",
     "output_type": "stream",
     "text": [
      "1.216105837992676\n",
      "100000\n",
      "100000\n",
      "[0.00000e+00 1.00001e-05 2.00002e-05 ... 9.99980e-01 9.99990e-01\n",
      " 1.00000e+00]\n"
     ]
    },
    {
     "data": {
      "text/plain": [
       "[<matplotlib.lines.Line2D at 0x2394b800880>]"
      ]
     },
     "execution_count": 2,
     "metadata": {},
     "output_type": "execute_result"
    },
    {
     "data": {
      "image/png": "[encoded data removed]",
      "text/plain": [
       "<Figure size 432x288 with 1 Axes>"
      ]
     },
     "metadata": {
      "needs_background": "light"
     },
     "output_type": "display_data"
    }
   ],
   "source": [
    "import math\n",
    "import matplotlib.pyplot as plt\n",
    "from numpy import *\n",
    "from numpy.random import standard_normal\n",
    "import numpy as np\n",
    "\n",
    "V = 100000\n",
    "P = 1\n",
    "i = np.linspace(0,P, V)  #Here, linspace(Start,, Stop, number of Steps)\n",
    "dt = P/V\n",
    "t = np.linspace(0, P, V)\n",
    "\n",
    "def Wiener():\n",
    "    global P, V, i, dt  #it says that we will use the precedent variables defined\n",
    "    sdt=np.sqrt(dt)\n",
    "    W=0\n",
    "    Mylist =[]\n",
    "    for t in np.linspace(0, P, V): #range takes only integer. Also : range(Start, Stop, Step)\n",
    "        if t == 0:\n",
    "            W = 0\n",
    "            Mylist.append(W)\n",
    "        else :\n",
    "            W = W + np.random.standard_normal()*sdt #On écrit le sdt car sinon W suit juste une loi normale centré réduite et non de variance racine de dt.\n",
    "            Mylist.append(W) #On ajoute dans la liste le W au temps t.\n",
    "    print(W)\n",
    "    print(len(Mylist))\n",
    "    print(len(i))\n",
    "    print(i)\n",
    "    #print(Mylist)\n",
    "    plt.plot(i, Mylist)\n",
    "    return(Mylist)\n",
    "\n",
    "W = Wiener()\n",
    "\n",
    "#Creation de l'équation différentielle stochastique X avec step function Non Random Variable :\n",
    "#On sait donc que f(t) = sigma(j)\n",
    "\n",
    "\n",
    "sigma = (i*dt)+2\n",
    "A = W * sigma\n",
    "\n",
    "plt.plot(t, A)\n"
   ]
  },
  {
   "cell_type": "code",
   "execution_count": 8,
   "id": "6925bc88",
   "metadata": {},
   "outputs": [
    {
     "ename": "SyntaxError",
     "evalue": "invalid syntax (Temp/ipykernel_23252/2448930529.py, line 46)",
     "output_type": "error",
     "traceback": [
      "\u001b[1;36m  File \u001b[1;32m\"C:\\Users\\maxim\\AppData\\Local\\Temp/ipykernel_23252/2448930529.py\"\u001b[1;36m, line \u001b[1;32m46\u001b[0m\n\u001b[1;33m    for j<V:\u001b[0m\n\u001b[1;37m           ^\u001b[0m\n\u001b[1;31mSyntaxError\u001b[0m\u001b[1;31m:\u001b[0m invalid syntax\n"
     ]
    }
   ],
   "source": [
    "import math\n",
    "import matplotlib.pyplot as plt\n",
    "from numpy import *\n",
    "from numpy.random import standard_normal\n",
    "import numpy as np\n",
    "\n",
    "V = 100000\n",
    "P = 1\n",
    "\n",
    "dt = P/V\n",
    "t = np.linspace(0, P, V)\n",
    "Pi = linspace(0, P, V) #avec N le nombre de pas et T la durée totale\n",
    "\n",
    "\n",
    "\n",
    "def Wiener():\n",
    "    global P, V, i, dt  #it says that we will use the precedent variables defined\n",
    "    sdt=np.sqrt(dt)\n",
    "    W=0\n",
    "    Mylist =[]\n",
    "    for t in np.linspace(0, P, V): #range takes only integer. Also : range(Start, Stop, Step)\n",
    "        if t == 0:\n",
    "            W = 0\n",
    "            Mylist.append(W)\n",
    "        else :\n",
    "            W = W + np.random.standard_normal()*sdt #On écrit le sdt car sinon W suit juste une loi normale centré réduite et non de variance racine de dt.\n",
    "            Mylist.append(W) #On ajoute dans la liste le W au temps t.\n",
    "    print(W)\n",
    "    print(len(Mylist))\n",
    "    print(len(Pi))\n",
    "    print(Pi)\n",
    "    #print(Mylist)\n",
    "    plt.plot(Pi, Mylist)\n",
    "    return(Mylist)\n",
    "\n",
    "W = Wiener()\n",
    "\n",
    "'''\n",
    "#On définit X[t0] = 0\n",
    "\n",
    "def equation():\n",
    "\n",
    "    global P, V, i, dt\n",
    "    X = 0\n",
    "    j=0\n",
    "    for j<V:\n",
    "        j=j+1\n",
    "        sigma = 2 + j*dt\n",
    "        X = X + sigma*\n",
    "\n",
    "    \n",
    "F = equation()'''"
   ]
  }
 ],
 "metadata": {
  "kernelspec": {
   "display_name": "Python 3 (ipykernel)",
   "language": "python",
   "name": "python3"
  },
  "language_info": {
   "codemirror_mode": {
    "name": "ipython",
    "version": 3
   },
   "file_extension": ".py",
   "mimetype": "text/x-python",
   "name": "python",
   "nbconvert_exporter": "python",
   "pygments_lexer": "ipython3",
   "version": "3.9.7"
  }
 },
 "nbformat": 4,
 "nbformat_minor": 5
}
